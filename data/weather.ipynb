{
 "cells": [
  {
   "cell_type": "markdown",
   "metadata": {},
   "source": [
    "# Data Frames\n"
   ]
  },
  {
   "cell_type": "markdown",
   "metadata": {},
   "source": []
  },
  {
   "cell_type": "markdown",
   "metadata": {},
   "source": [
    "# Weather Data\n"
   ]
  },
  {
   "cell_type": "code",
   "execution_count": 18,
   "metadata": {},
   "outputs": [],
   "source": [
    "# Data Files\n",
    "import pandas as pd"
   ]
  },
  {
   "cell_type": "markdown",
   "metadata": {},
   "source": [
    "# Analysis\n"
   ]
  },
  {
   "cell_type": "markdown",
   "metadata": {},
   "source": [
    "The following code outputs the file name used to store the data file\n",
    "```\n",
    "bash\n",
    "`date +\"%Y%m%d_%H%M%S_athenry.jason\"` \n",
    "\n",
    "```\n",
    "\n",
    "The  %Y is replaced by 4 digit year format"
   ]
  },
  {
   "cell_type": "markdown",
   "metadata": {},
   "source": [
    "# Analysising the data\n"
   ]
  },
  {
   "cell_type": "markdown",
   "metadata": {},
   "source": []
  },
  {
   "cell_type": "code",
   "execution_count": 16,
   "metadata": {},
   "outputs": [],
   "source": [
    "\n",
    "df = pd.read_json('/data/weather/20241128_095756_athenry.json')"
   ]
  },
  {
   "cell_type": "code",
   "execution_count": 17,
   "metadata": {},
   "outputs": [
    {
     "data": {
      "text/html": [
       "<div>\n",
       "<style scoped>\n",
       "    .dataframe tbody tr th:only-of-type {\n",
       "        vertical-align: middle;\n",
       "    }\n",
       "\n",
       "    .dataframe tbody tr th {\n",
       "        vertical-align: top;\n",
       "    }\n",
       "\n",
       "    .dataframe thead th {\n",
       "        text-align: right;\n",
       "    }\n",
       "</style>\n",
       "<table border=\"1\" class=\"dataframe\">\n",
       "  <thead>\n",
       "    <tr style=\"text-align: right;\">\n",
       "      <th></th>\n",
       "      <th>name</th>\n",
       "      <th>temperature</th>\n",
       "      <th>symbol</th>\n",
       "      <th>weatherDescription</th>\n",
       "      <th>text</th>\n",
       "      <th>windSpeed</th>\n",
       "      <th>windGust</th>\n",
       "      <th>cardinalWindDirection</th>\n",
       "      <th>windDirection</th>\n",
       "      <th>humidity</th>\n",
       "      <th>rainfall</th>\n",
       "      <th>pressure</th>\n",
       "      <th>dayName</th>\n",
       "      <th>date</th>\n",
       "      <th>reportTime</th>\n",
       "    </tr>\n",
       "  </thead>\n",
       "  <tbody>\n",
       "    <tr>\n",
       "      <th>0</th>\n",
       "      <td>Athenry</td>\n",
       "      <td>-2</td>\n",
       "      <td>15n</td>\n",
       "      <td>Fog / Mist</td>\n",
       "      <td>\"Mist\"</td>\n",
       "      <td>11</td>\n",
       "      <td>-</td>\n",
       "      <td>E</td>\n",
       "      <td>90</td>\n",
       "      <td>95</td>\n",
       "      <td>0.0</td>\n",
       "      <td>1022</td>\n",
       "      <td>Thursday</td>\n",
       "      <td>2024-11-28</td>\n",
       "      <td>00:00</td>\n",
       "    </tr>\n",
       "    <tr>\n",
       "      <th>1</th>\n",
       "      <td>Athenry</td>\n",
       "      <td>-2</td>\n",
       "      <td>02n</td>\n",
       "      <td>Fair</td>\n",
       "      <td>\"Fair\"</td>\n",
       "      <td>13</td>\n",
       "      <td>-</td>\n",
       "      <td>E</td>\n",
       "      <td>90</td>\n",
       "      <td>94</td>\n",
       "      <td>0.0</td>\n",
       "      <td>1022</td>\n",
       "      <td>Thursday</td>\n",
       "      <td>2024-11-28</td>\n",
       "      <td>01:00</td>\n",
       "    </tr>\n",
       "    <tr>\n",
       "      <th>2</th>\n",
       "      <td>Athenry</td>\n",
       "      <td>-2</td>\n",
       "      <td>02n</td>\n",
       "      <td>Fair</td>\n",
       "      <td>\"Fair\"</td>\n",
       "      <td>17</td>\n",
       "      <td>-</td>\n",
       "      <td>E</td>\n",
       "      <td>90</td>\n",
       "      <td>92</td>\n",
       "      <td>0.0</td>\n",
       "      <td>1022</td>\n",
       "      <td>Thursday</td>\n",
       "      <td>2024-11-28</td>\n",
       "      <td>02:00</td>\n",
       "    </tr>\n",
       "    <tr>\n",
       "      <th>3</th>\n",
       "      <td>Athenry</td>\n",
       "      <td>-1</td>\n",
       "      <td>04n</td>\n",
       "      <td>Cloudy</td>\n",
       "      <td>\"Cloudy\"</td>\n",
       "      <td>17</td>\n",
       "      <td>-</td>\n",
       "      <td>E</td>\n",
       "      <td>90</td>\n",
       "      <td>92</td>\n",
       "      <td>0.0</td>\n",
       "      <td>1021</td>\n",
       "      <td>Thursday</td>\n",
       "      <td>2024-11-28</td>\n",
       "      <td>03:00</td>\n",
       "    </tr>\n",
       "    <tr>\n",
       "      <th>4</th>\n",
       "      <td>Athenry</td>\n",
       "      <td>0</td>\n",
       "      <td>04n</td>\n",
       "      <td>Cloudy</td>\n",
       "      <td>\"Cloudy\"</td>\n",
       "      <td>17</td>\n",
       "      <td>-</td>\n",
       "      <td>E</td>\n",
       "      <td>90</td>\n",
       "      <td>92</td>\n",
       "      <td>0.0</td>\n",
       "      <td>1021</td>\n",
       "      <td>Thursday</td>\n",
       "      <td>2024-11-28</td>\n",
       "      <td>04:00</td>\n",
       "    </tr>\n",
       "  </tbody>\n",
       "</table>\n",
       "</div>"
      ],
      "text/plain": [
       "      name  temperature symbol weatherDescription      text  windSpeed  \\\n",
       "0  Athenry           -2    15n         Fog / Mist    \"Mist\"         11   \n",
       "1  Athenry           -2    02n               Fair    \"Fair\"         13   \n",
       "2  Athenry           -2    02n               Fair    \"Fair\"         17   \n",
       "3  Athenry           -1    04n             Cloudy  \"Cloudy\"         17   \n",
       "4  Athenry            0    04n             Cloudy  \"Cloudy\"         17   \n",
       "\n",
       "  windGust cardinalWindDirection  windDirection  humidity  rainfall  pressure  \\\n",
       "0        -                     E             90        95       0.0      1022   \n",
       "1        -                     E             90        94       0.0      1022   \n",
       "2        -                     E             90        92       0.0      1022   \n",
       "3        -                     E             90        92       0.0      1021   \n",
       "4        -                     E             90        92       0.0      1021   \n",
       "\n",
       "    dayName       date reportTime  \n",
       "0  Thursday 2024-11-28      00:00  \n",
       "1  Thursday 2024-11-28      01:00  \n",
       "2  Thursday 2024-11-28      02:00  \n",
       "3  Thursday 2024-11-28      03:00  \n",
       "4  Thursday 2024-11-28      04:00  "
      ]
     },
     "execution_count": 17,
     "metadata": {},
     "output_type": "execute_result"
    }
   ],
   "source": [
    "#Show the date\n",
    "\n",
    "df. head()"
   ]
  }
 ],
 "metadata": {
  "kernelspec": {
   "display_name": "Python 3",
   "language": "python",
   "name": "python3"
  },
  "language_info": {
   "codemirror_mode": {
    "name": "ipython",
    "version": 3
   },
   "file_extension": ".py",
   "mimetype": "text/x-python",
   "name": "python",
   "nbconvert_exporter": "python",
   "pygments_lexer": "ipython3",
   "version": "3.12.1"
  }
 },
 "nbformat": 4,
 "nbformat_minor": 2
}
